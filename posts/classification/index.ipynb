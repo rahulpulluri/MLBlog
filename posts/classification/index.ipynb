{
  "cells": [
    {
      "cell_type": "raw",
      "metadata": {},
      "source": [
        "---\n",
        "title: Classification\n",
        "author: Rahul Pulluri\n",
        "date: '2023-11-19'\n",
        "image: classification_main.jpeg\n",
        "---"
      ],
      "id": "81d197a8"
    },
    {
      "cell_type": "markdown",
      "metadata": {},
      "source": [
        "![](Classification_main.jpeg)\n",
        "\n",
        "\n",
        "## Definition and Overview of Classification\n",
        "\n",
        "Classification in machine learning and statistics is a supervised learning approach where the objective is to categorize data into predefined classes. In simpler terms, it involves deciding which category or class a new observation belongs to, based on a training set of data containing observations whose category membership is known.\n",
        "\n",
        "## Key Components\n",
        "\n",
        "**Classes or Categories:** These are the distinct groups or categories that data points are classified into. For instance, in a binary classification, there are two classes, while in multi-class classification, there could be three or more.\n",
        "\n",
        "**Features:** These are individual independent variables that act as the input for the process. Each feature contributes to determining the output class.\n",
        "\n",
        "**Labels:** In the training dataset, each data point is tagged with the correct label, which the algorithm then learns to predict.\n",
        "\n",
        "## How Classification Works\n",
        "\n",
        "**Training Phase:** The algorithm is trained on a labeled dataset, where it learns the relationship between features and the corresponding class labels.\n",
        "\n",
        "**Model Building:** The algorithm creates a model that maps inputs (features) to desired outputs (labels). This model represents the learned patterns from the data.\n",
        "\n",
        "**Testing and Prediction:** The trained model is then used to predict the class labels of new, unseen data. The performance of the model is typically evaluated using metrics like accuracy, precision, recall, and F1 score.\n",
        "\n",
        "## Types of Classification\n",
        "\n",
        "**Binary Classification:** Involves two classes. Common examples include spam detection (spam or not spam) and medical diagnoses (sick or healthy).\n",
        "\n",
        "**Multiclass Classification:** Involves more than two classes, but each instance is assigned to only one class. An example would be classifying types of fruits.\n",
        "\n",
        "**Multilabel Classification:** Each instance may be assigned to multiple classes. For example, a news article might be categorized into multiple genres like sports, politics, and finance.\n",
        "\n",
        "## Applications\n",
        "\n",
        "**Medical Diagnosis:** Identifying diseases based on symptoms and test results.\n",
        "\n",
        "**Spam Filtering:** Categorizing emails as spam or non-spam.\n",
        "\n",
        "**Sentiment Analysis:** Classifying the sentiment of text data (positive, negative, neutral).\n",
        "\n",
        "**Image Recognition:** Categorizing images into various classes like animals, objects, etc.\n",
        "Credit Scoring: Assessing creditworthiness as high-risk or low-risk.\n",
        "\n",
        "Once trained, the algorithm can classify new, unseen data by assessing its similarity to the patterns it has learned. It predicts the likelihood of the new data point falling into one of the predefined categories. This process is akin to your email provider recognizing whether an incoming email is spam or not based on past experiences.\n",
        "\n",
        "## Classification Algorithms\n",
        "\n",
        "\n",
        "### **Logistic Regression:**\n",
        "Overview: Logistic Regression is used for binary classification problems. It models the probability that each input belongs to a particular category.\n",
        "Mechanism: This algorithm uses a logistic function to squeeze the output of a linear equation between 0 and 1. The result is the probability that the given input point belongs to a certain class.\n",
        "\n",
        "![Image Source: <https://editor.analyticsvidhya.com/uploads/82109Webp.net-resize.jpg>](82109Webp.net-resize.jpg)\n",
        "\n",
        "Pros:\n",
        "Simple and efficient.\n",
        "Provides a probability score for observations.\n",
        "Low variance, avoiding overfitting.\n",
        "\n",
        "Cons:\n",
        "Struggles with non-linear data.\n",
        "Assumes no missing values and that predictors are independent.\n",
        "\n",
        "Applications: Commonly used in fields like credit scoring, medical fields for disease diagnosis, and predictive analytics.\n",
        "\n",
        "### **Naive Bayes:**\n",
        "Overview: Based on Bayes' Theorem, it assumes independence among predictors.\n",
        "Mechanism: It calculates the probability of each class and the conditional probability of each class given each input value. These probabilities are then used to classify the data.\n",
        "\n",
        "![Image Source: <https://av-eks-blogoptimized.s3.amazonaws.com/Bayes_rule-300x172-300x172-111664.png>](Bayes_rule-300x172-300x172-111664.png)\n",
        "\n",
        "Pros:\n",
        "Fast and efficient.\n",
        "Performs well with a smaller amount of data.\n",
        "Handles multi-class prediction problems well.\n",
        "\n",
        "Cons:\n",
        "The assumption of independent features is often unrealistic.\n",
        "Can be outperformed by more complex models.\n",
        "\n",
        "Applications: Widely used in spam filtering, text analysis, and sentiment analysis.\n",
        "\n",
        "### **K-Nearest Neighbors (KNN):**\n",
        "Overview: A non-parametric method used for classification and regression.\n",
        "Mechanism: Classifies data based on how its neighbors are classified. It finds the K nearest points to the new data point and classifies it based on the majority class of these points.\n",
        "\n",
        "![Image Source: <https://static.javatpoint.com/tutorial/machine-learning/images/k-nearest-neighbor-algorithm-for-machine-learning2.png>](k-nearest-neighbor-algorithm-for-machine-learning2.png)\n",
        "\n",
        "Pros:\n",
        "Simple and intuitive.\n",
        "No need to build a model or tune parameters.\n",
        "Flexible to feature/distance choices.\n",
        "\n",
        "Cons:\n",
        "Slows significantly as data size increases.\n",
        "Sensitive to irrelevant or redundant features.\n",
        "\n",
        "Applications: Used in recommendation systems, image recognition, and more.\n",
        "\n",
        "\n",
        "### **Support Vector Machine (SVM):**\n",
        "Overview: Effective in high dimensional spaces and best suited for binary classification.\n",
        "Mechanism: Constructs a hyperplane in a multidimensional space to separate different classes. SVM finds the best margin (distance between the line and the support vectors) to separate the classes.\n",
        "\n",
        "![Image Source: <https://static.javatpoint.com/tutorial/machine-learning/images/support-vector-machine-algorithm5.png>](support-vector-machine-algorithm5.png)\n",
        "\n",
        "Pros:\n",
        "Effective in high-dimensional spaces.\n",
        "Uses a subset of training points (support vectors), so it's memory efficient.\n",
        "\n",
        "Cons:\n",
        "Not suitable for larger datasets.\n",
        "Does not perform well with noisy data.\n",
        "\n",
        "Applications: Used in face detection, text and hypertext categorization, classification of images.\n",
        "\n",
        "### **Decision Tree:**\n",
        "Overview: A tree-structure algorithm, where each node represents a feature, each branch a decision rule, and each leaf a class.\n",
        "Mechanism: Splits the data into subsets based on feature values. This process is repeated recursively, resulting in a tree with decision nodes and leaf nodes.\n",
        "\n",
        "![Image Source: <https://lh4.googleusercontent.com/v9UQUwaQTAXVH90b-Ugyw2_61_uErfYvTBtG-RNRNB_eHUFq9AmAN_2IOdfOETnbXImnQVN-wPC7_YzDgf7urCeyhyx5UZmuSwV8BVsV8VnHxl1KtgpuxDifJ4pLE23ooYXLlnc>](dig10.PNG)\n",
        "\n",
        "Pros:\n",
        "Easy to interpret and explain.\n",
        "Requires little data preparation.\n",
        "Can handle both numerical and categorical data.\n",
        "\n",
        "Cons:\n",
        "Prone to overfitting, especially with complex trees.\n",
        "Small changes in data can lead to a different tree.\n",
        "\n",
        "Applications: Used in customer segmentation, fraud detection, and risk assessment.\n",
        "\n",
        "## Example: Credit Card Fraud Detection\n"
      ],
      "id": "30f93a93"
    },
    {
      "cell_type": "code",
      "metadata": {},
      "source": [
        "#Importing librairies\n",
        "\n",
        "import pandas as pd \n",
        "import numpy as np\n",
        "\n",
        "# Scikit-learn library: For SVM\n",
        "from sklearn import preprocessing\n",
        "from sklearn.metrics import confusion_matrix\n",
        "from sklearn import svm\n",
        "\n",
        "import itertools\n",
        "\n",
        "# Matplotlib library to plot the charts\n",
        "import matplotlib.pyplot as plt\n",
        "import matplotlib.mlab as mlab\n",
        "\n",
        "# Library for the statistic data vizualisation\n",
        "import seaborn\n",
        "\n",
        "%matplotlib inline\n"
      ],
      "id": "d191ae22",
      "execution_count": null,
      "outputs": []
    },
    {
      "cell_type": "markdown",
      "metadata": {},
      "source": [
        "**Data recuperation**\n"
      ],
      "id": "36878c8c"
    },
    {
      "cell_type": "code",
      "metadata": {},
      "source": [
        "data = pd.read_csv('R:/MLBlog/posts/classification/creditcard.csv') # Reading the file .csv\n",
        "df = pd.DataFrame(data) # Converting data to Panda DataFrame"
      ],
      "id": "e3d0ffe7",
      "execution_count": null,
      "outputs": []
    },
    {
      "cell_type": "markdown",
      "metadata": {},
      "source": [
        "**Data Visualization**\n"
      ],
      "id": "9474c557"
    },
    {
      "cell_type": "code",
      "metadata": {},
      "source": [
        "df = pd.DataFrame(data) # Converting data to Panda DataFrame"
      ],
      "id": "fbd106e4",
      "execution_count": null,
      "outputs": []
    },
    {
      "cell_type": "code",
      "metadata": {},
      "source": [
        "df.describe() # Description of statistic features (Sum, Average, Variance, minimum, 1st quartile, 2nd quartile, 3rd Quartile and Maximum)"
      ],
      "id": "8856462c",
      "execution_count": null,
      "outputs": []
    },
    {
      "cell_type": "code",
      "metadata": {},
      "source": [
        "df_fraud = df[df['Class'] == 1] # Recovery of fraud data\n",
        "plt.figure(figsize=(15,10))\n",
        "plt.scatter(df_fraud['Time'], df_fraud['Amount']) # Display fraud amounts according to their time\n",
        "plt.title('Scratter plot amount fraud')\n",
        "plt.xlabel('Time')\n",
        "plt.ylabel('Amount')\n",
        "plt.xlim([0,175000])\n",
        "plt.ylim([0,2500])\n",
        "plt.show()"
      ],
      "id": "33469f71",
      "execution_count": null,
      "outputs": []
    },
    {
      "cell_type": "code",
      "metadata": {},
      "source": [
        "nb_big_fraud = df_fraud[df_fraud['Amount'] > 1000].shape[0] # Recovery of frauds over 1000\n",
        "print('There are only '+ str(nb_big_fraud) + ' frauds where the amount was bigger than 1000 over ' + str(df_fraud.shape[0]) + ' frauds')"
      ],
      "id": "f32733ed",
      "execution_count": null,
      "outputs": []
    },
    {
      "cell_type": "markdown",
      "metadata": {},
      "source": [
        "There are only 9 frauds where the amount was bigger than 1000 over 492 frauds\n",
        "\n",
        "-   Unbalanced data\n"
      ],
      "id": "8e886567"
    },
    {
      "cell_type": "code",
      "metadata": {},
      "source": [
        "number_fraud = len(data[data.Class == 1])\n",
        "number_no_fraud = len(data[data.Class == 0])\n",
        "print('There are only '+ str(number_fraud) + ' frauds in the original dataset, even though there are ' + str(number_no_fraud) +' no frauds in the dataset.')"
      ],
      "id": "c4034d71",
      "execution_count": null,
      "outputs": []
    },
    {
      "cell_type": "markdown",
      "metadata": {},
      "source": [
        "There are only 492 frauds in the original dataset, even though there are 284315 no frauds in the dataset.\n"
      ],
      "id": "217e6a4f"
    },
    {
      "cell_type": "code",
      "metadata": {},
      "source": [
        "print(\"The accuracy of the classifier then would be : \"+ str((284315-492)/284315)+ \" which is the number of good classification over the number of tuple to classify\")"
      ],
      "id": "2c6374fc",
      "execution_count": null,
      "outputs": []
    },
    {
      "cell_type": "markdown",
      "metadata": {},
      "source": [
        "**Correlation of features**\n"
      ],
      "id": "f1100687"
    },
    {
      "cell_type": "code",
      "metadata": {},
      "source": [
        "df_corr = df.corr() # Calculation of the correlation coefficients in pairs, with the default method:\n",
        "                    # Pearson, Standard Correlation Coefficient"
      ],
      "id": "95e46d09",
      "execution_count": null,
      "outputs": []
    },
    {
      "cell_type": "code",
      "metadata": {},
      "source": [
        "plt.figure(figsize=(15,10))\n",
        "seaborn.heatmap(df_corr, cmap=\"YlGnBu\") # Displaying the Heatmap\n",
        "seaborn.set(font_scale=2,style='white')\n",
        "\n",
        "plt.title('Heatmap correlation')\n",
        "plt.show()"
      ],
      "id": "6c2318bf",
      "execution_count": null,
      "outputs": []
    },
    {
      "cell_type": "markdown",
      "metadata": {},
      "source": [
        "As we can notice, most of the features are not correlated with each other. This corroborates the fact that a PCA was previously performed on the data.\n",
        "\n",
        "What can generally be done on a massive dataset is a dimension reduction. By picking th emost important dimensions, there is a possiblity of explaining most of the problem, thus gaining a considerable amount of time while preventing the accuracy to drop too much.\n",
        "\n",
        "However in this case given the fact that a PCA was previously performed, if the dimension reduction is effective then the PCA wasn't computed in the most effective way. Another way to put it is that no dimension reduction should be computed on a dataset on which a PCA was computed correctly.\n",
        "\n",
        "**Correlation of features**\n",
        "\n",
        "OVERSAMPLING\n",
        "\n",
        "One way to do oversampling is to replicate the under-represented class tuples until we attain a correct proportion between the class\n",
        "\n",
        "However as we haven't infinite time nor the patience, we are going to run the classifier with the undersampled training data (for those using the undersampling principle if results are really bad just rerun the training dataset definition)\n",
        "\n",
        "UNDERSAMPLING\n"
      ],
      "id": "a406ac41"
    },
    {
      "cell_type": "code",
      "metadata": {},
      "source": [
        "import pandas as pd\n",
        "# We seperate ours data in two groups : a train dataset and a test dataset\n",
        "\n",
        "# First we build our train dataset\n",
        "df_train_all = df[0:150000] # We cut in two the original dataset\n",
        "df_train_1 = df_train_all[df_train_all['Class'] == 1] # We seperate the data which are the frauds and the no frauds\n",
        "df_train_0 = df_train_all[df_train_all['Class'] == 0]\n",
        "print('In this dataset, we have ' + str(len(df_train_1)) +\" frauds so we need to take a similar number of non-fraud\")\n",
        "\n",
        "df_sample=df_train_0.sample(300)\n",
        "combined_df = pd.concat([df_train_1, df_sample], ignore_index=True) # We gather the frauds with the no frauds. \n",
        "combined_df = combined_df.sample(frac=1) # Then we mix our dataset"
      ],
      "id": "d5d0e520",
      "execution_count": null,
      "outputs": []
    },
    {
      "cell_type": "markdown",
      "metadata": {},
      "source": [
        "In this dataset, we have 293 frauds so we need to take a similar number of non-fraud\n"
      ],
      "id": "4dd754a8"
    },
    {
      "cell_type": "code",
      "metadata": {},
      "source": [
        "X_train = combined_df.drop(['Time', 'Class'], axis=1)  # Drop the features \"Time\" (useless) and \"Class\" (label)\n",
        "y_train = combined_df['Class']  # Create the label\n",
        "X_train = np.asarray(X_train)\n",
        "y_train = np.asarray(y_train)"
      ],
      "id": "38a12ceb",
      "execution_count": null,
      "outputs": []
    },
    {
      "cell_type": "code",
      "metadata": {},
      "source": [
        "############################## with all the test dataset to see if the model learn correctly ##################\n",
        "df_test_all = df[150000:]\n",
        "\n",
        "X_test_all = df_test_all.drop(['Time', 'Class'],axis=1)\n",
        "y_test_all = df_test_all['Class']\n",
        "X_test_all = np.asarray(X_test_all)"
      ],
      "id": "0fbb443a",
      "execution_count": null,
      "outputs": []
    },
    {
      "cell_type": "markdown",
      "metadata": {},
      "source": [
        "**Confusion Matrix**\n"
      ],
      "id": "357236b1"
    },
    {
      "cell_type": "code",
      "metadata": {},
      "source": [
        "class_names=np.array(['0','1']) # Binary label, Class = 1 (fraud) and Class = 0 (no fraud)"
      ],
      "id": "23acb7f9",
      "execution_count": null,
      "outputs": []
    },
    {
      "cell_type": "code",
      "metadata": {},
      "source": [
        "# Function to plot the confusion Matrix\n",
        "def plot_confusion_matrix(cm, classes,\n",
        "                          title='Confusion matrix',\n",
        "                          cmap=plt.cm.Blues):\n",
        "    \n",
        "    plt.imshow(cm, interpolation='nearest', cmap=cmap)\n",
        "    plt.title(title)\n",
        "    plt.colorbar()\n",
        "    tick_marks = np.arange(len(classes))\n",
        "    plt.xticks(tick_marks, classes, rotation=45)\n",
        "    plt.yticks(tick_marks, classes)\n",
        "\n",
        "    fmt = 'd' \n",
        "    thresh = cm.max() / 2.\n",
        "    for i, j in itertools.product(range(cm.shape[0]), range(cm.shape[1])):\n",
        "        plt.text(j, i, format(cm[i, j], fmt),\n",
        "                 horizontalalignment=\"center\",\n",
        "                 color=\"white\" if cm[i, j] > thresh else \"black\")\n",
        "\n",
        "    plt.tight_layout()\n",
        "    plt.ylabel('True label')\n",
        "    plt.xlabel('Predicted label')"
      ],
      "id": "5fa35c7d",
      "execution_count": null,
      "outputs": []
    },
    {
      "cell_type": "markdown",
      "metadata": {},
      "source": [
        "**Model Selection**\n",
        "\n",
        "So now, we'll use a SVM model classifier, with the scikit-learn library.\n"
      ],
      "id": "38c71fc5"
    },
    {
      "cell_type": "code",
      "metadata": {},
      "source": [
        "classifier = svm.SVC(kernel='linear') # We set a SVM classifier, the default SVM Classifier (Kernel = Radial Basis Function)"
      ],
      "id": "b09bca9a",
      "execution_count": null,
      "outputs": []
    },
    {
      "cell_type": "code",
      "metadata": {},
      "source": [
        "classifier.fit(X_train, y_train) # Then we train our model, with our balanced data train."
      ],
      "id": "f2022f4c",
      "execution_count": null,
      "outputs": []
    },
    {
      "cell_type": "markdown",
      "metadata": {},
      "source": [
        "**Testing the model**\n"
      ],
      "id": "9633b2b0"
    },
    {
      "cell_type": "code",
      "metadata": {},
      "source": [
        "prediction_SVM_all = classifier.predict(X_test_all) #And finally, we predict our data test."
      ],
      "id": "b08ab5ef",
      "execution_count": null,
      "outputs": []
    },
    {
      "cell_type": "code",
      "metadata": {},
      "source": [
        "cm = confusion_matrix(y_test_all, prediction_SVM_all)\n",
        "plot_confusion_matrix(cm,class_names)"
      ],
      "id": "22764826",
      "execution_count": null,
      "outputs": []
    },
    {
      "cell_type": "markdown",
      "metadata": {},
      "source": [
        "In this case we are gonna try to minimize the number of errors in our prediction results. Errors are on the anti-diagonal of the confusion matrix. But we can infer that being wrong about an actual fraud is far worse than being wrong about a non-fraud transaction.\n",
        "\n",
        "That is why using the accuracy as only classification criterion could be considered unthoughtful. During the remaining part of this study our criterion will consider precision on the real fraud 4 times more important than the general accuracy. Even though the final tested result is accuracy.\n"
      ],
      "id": "9c8ec45e"
    },
    {
      "cell_type": "code",
      "metadata": {},
      "source": [
        "print('Our criterion give a result of ' \n",
        "      + str( ( (cm[0][0]+cm[1][1]) / (sum(cm[0]) + sum(cm[1])) + 4 * cm[1][1]/(cm[1][0]+cm[1][1])) / 5))"
      ],
      "id": "3f428c19",
      "execution_count": null,
      "outputs": []
    },
    {
      "cell_type": "markdown",
      "metadata": {},
      "source": [
        "Our criterion give a result of 0.905383035408\n"
      ],
      "id": "29d36a78"
    },
    {
      "cell_type": "code",
      "metadata": {},
      "source": [
        "print('We have detected ' + str(cm[1][1]) + ' frauds / ' + str(cm[1][1]+cm[1][0]) + ' total frauds.')\n",
        "print('\\nSo, the probability to detect a fraud is ' + str(cm[1][1]/(cm[1][1]+cm[1][0])))\n",
        "print(\"the accuracy is : \"+str((cm[0][0]+cm[1][1]) / (sum(cm[0]) + sum(cm[1]))))"
      ],
      "id": "6cfe07e6",
      "execution_count": null,
      "outputs": []
    },
    {
      "cell_type": "markdown",
      "metadata": {},
      "source": [
        "We have detected 177 frauds / 199 total frauds.\n",
        "\n",
        "So, the probability to detect a fraud is 0.889447236181\n",
        "the accuracy is : 0.969126232317\n",
        "\n",
        "**Models Rank**\n",
        "\n",
        "There is a need to compute the fit method again, as the dimension of the tuples to predict went from 29 to 10 because of the dimension reduction\n"
      ],
      "id": "7fc12f91"
    },
    {
      "cell_type": "code",
      "metadata": {},
      "source": [
        "# Define a simple feature ranking function (you can customize this)\n",
        "def rank_features(data):\n",
        "    # Implement your feature ranking logic here\n",
        "    ranked_features = data  # Replace this with your actual feature ranking code\n",
        "    return ranked_features\n",
        "\n",
        "# Now you can use the rank_features function\n",
        "X_train_rank = rank_features(X_train)\n",
        "X_test_all_rank = rank_features(X_test_all)\n"
      ],
      "id": "b53dfda8",
      "execution_count": null,
      "outputs": []
    },
    {
      "cell_type": "code",
      "metadata": {},
      "source": [
        "prediction_SVM = classifier.predict(X_test_all_rank)"
      ],
      "id": "9e75bb95",
      "execution_count": null,
      "outputs": []
    },
    {
      "cell_type": "code",
      "metadata": {},
      "source": [
        "cm = confusion_matrix(y_test_all, prediction_SVM)\n",
        "plot_confusion_matrix(cm,class_names)"
      ],
      "id": "f7f1385e",
      "execution_count": null,
      "outputs": []
    },
    {
      "cell_type": "code",
      "metadata": {},
      "source": [
        "print('Our criterion give a result of ' \n",
        "      + str( ( (cm[0][0]+cm[1][1]) / (sum(cm[0]) + sum(cm[1])) + 4 * cm[1][1]/(cm[1][0]+cm[1][1])) / 5))"
      ],
      "id": "57beb15a",
      "execution_count": null,
      "outputs": []
    },
    {
      "cell_type": "markdown",
      "metadata": {},
      "source": [
        "Our criterion give a result of 0.912995958898\n"
      ],
      "id": "4badeba4"
    },
    {
      "cell_type": "code",
      "metadata": {},
      "source": [
        "print('We have detected ' + str(cm[1][1]) + ' frauds / ' + str(cm[1][1]+cm[1][0]) + ' total frauds.')\n",
        "print('\\nSo, the probability to detect a fraud is ' + str(cm[1][1]/(cm[1][1]+cm[1][0])))\n",
        "print(\"the accuracy is : \"+str((cm[0][0]+cm[1][1]) / (sum(cm[0]) + sum(cm[1]))))"
      ],
      "id": "87adbaaa",
      "execution_count": null,
      "outputs": []
    },
    {
      "cell_type": "markdown",
      "metadata": {},
      "source": [
        "We have detected 179 frauds / 199 total frauds.\n",
        "\n",
        "So, the probability to detect a fraud is 0.899497487437\n",
        "the accuracy is : 0.966989844741\n"
      ],
      "id": "5e0356e6"
    }
  ],
  "metadata": {
    "kernelspec": {
      "name": "python3",
      "language": "python",
      "display_name": "Python 3 (ipykernel)"
    }
  },
  "nbformat": 4,
  "nbformat_minor": 5
}